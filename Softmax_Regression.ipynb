{
  "nbformat": 4,
  "nbformat_minor": 0,
  "metadata": {
    "colab": {
      "provenance": []
    },
    "kernelspec": {
      "name": "python3",
      "display_name": "Python 3"
    },
    "language_info": {
      "name": "python"
    }
  },
  "cells": [
    {
      "cell_type": "code",
      "execution_count": null,
      "metadata": {
        "id": "vp7v7k13zs7N"
      },
      "outputs": [],
      "source": [
        "import numpy as np\n",
        "from matplotlib import pyplot as plt\n",
        "from sklearn.metrics import precision_score, recall_score, accuracy_score"
      ]
    },
    {
      "cell_type": "code",
      "source": [
        "from keras.datasets import mnist\n",
        "\n",
        "(X_train, y_train) , (X_test, y_test) =mnist.load_data()"
      ],
      "metadata": {
        "id": "Z7cbfhzHz20Z"
      },
      "execution_count": null,
      "outputs": []
    },
    {
      "cell_type": "code",
      "source": [
        "print(X_train[0].shape)\n",
        "plt.imshow(X_train[0])"
      ],
      "metadata": {
        "colab": {
          "base_uri": "https://localhost:8080/",
          "height": 465
        },
        "id": "9IgnC0xhz6FQ",
        "outputId": "ac109fe0-4603-4bd2-e03f-ca803eadeeeb"
      },
      "execution_count": null,
      "outputs": [
        {
          "output_type": "stream",
          "name": "stdout",
          "text": [
            "(28, 28)\n"
          ]
        },
        {
          "output_type": "execute_result",
          "data": {
            "text/plain": [
              "<matplotlib.image.AxesImage at 0x7c49029daf50>"
            ]
          },
          "metadata": {},
          "execution_count": 14
        },
        {
          "output_type": "display_data",
          "data": {
            "text/plain": [
              "<Figure size 640x480 with 1 Axes>"
            ],
            "image/png": "[encoded data removed]"
          },
          "metadata": {}
        }
      ]
    },
    {
      "cell_type": "code",
      "source": [
        "X_train_scaled  =np.array([x.ravel()/255. for x in X_train])\n",
        "X_test_scaled  =np.array([x.ravel()/255. for x in X_test])"
      ],
      "metadata": {
        "id": "-RCrCN0Iz92y"
      },
      "execution_count": null,
      "outputs": []
    },
    {
      "cell_type": "code",
      "source": [
        "X_train_scaled.shape, X_test_scaled.shape"
      ],
      "metadata": {
        "colab": {
          "base_uri": "https://localhost:8080/"
        },
        "id": "T57jOgNgz_x9",
        "outputId": "a4d48732-f057-4dd0-a381-cc4cd668a583"
      },
      "execution_count": null,
      "outputs": [
        {
          "output_type": "execute_result",
          "data": {
            "text/plain": [
              "((60000, 784), (10000, 784))"
            ]
          },
          "metadata": {},
          "execution_count": 16
        }
      ]
    },
    {
      "cell_type": "code",
      "source": [
        "from sklearn.preprocessing import OneHotEncoder\n",
        "enc = OneHotEncoder(handle_unknown='ignore')\n",
        "\n",
        "y_train_onehot = enc.fit_transform(y_train.reshape(-1,1)).toarray()\n",
        "y_test_onehot = enc.fit_transform(y_test.reshape(-1,1)).toarray()"
      ],
      "metadata": {
        "id": "66c9nRAp0ARS"
      },
      "execution_count": null,
      "outputs": []
    },
    {
      "cell_type": "code",
      "source": [
        "print(y_train[0])\n",
        "print(y_train_onehot[0])\n",
        "print(y_train_onehot.shape)"
      ],
      "metadata": {
        "colab": {
          "base_uri": "https://localhost:8080/"
        },
        "id": "Zc6R1W180CQh",
        "outputId": "b5cd9982-8c84-465d-abad-196b5de24de0"
      },
      "execution_count": null,
      "outputs": [
        {
          "output_type": "stream",
          "name": "stdout",
          "text": [
            "5\n",
            "[0. 0. 0. 0. 0. 1. 0. 0. 0. 0.]\n",
            "(60000, 10)\n"
          ]
        }
      ]
    },
    {
      "cell_type": "code",
      "source": [
        "class LogisticRegression:\n",
        "  def __init__(self,lr, epoch):\n",
        "    self.lr = lr\n",
        "    self.epoch = epoch\n",
        "    self.w = None\n",
        "    self.loss_list =None\n",
        "  def predict(self,X):\n",
        "    h = np.dot(X, self.w)\n",
        "    softmax = np.exp(h)\n",
        "    y_pred = softmax / np.sum(softmax, axis=1, keepdims=True)\n",
        "    return y_pred\n",
        "  def loss(self,X,y):\n",
        "    y_pred = self.predict(X)\n",
        "    return -np.sum(y*np.log(y_pred)) / y.shape[0]\n",
        "  def grad(self,X, y):\n",
        "    y_pred =self.predict(X)\n",
        "    delta = y_pred - y\n",
        "    return np.dot(X.T, delta)/X.shape[0]\n",
        "  def train(self, X ,y):\n",
        "    self.w = np.zeros((X.shape[1],10))\n",
        "    self.loss_list =[]\n",
        "    for i in range(self.epoch):\n",
        "      self.w -= self.lr*self.grad(X, y)\n",
        "      self.loss_list.append(self.loss(X,y))\n",
        "      if (i%(self.epoch/10)==0):\n",
        "          print(\"cost after\",i,\"iter is\", self.loss(X,y))\n",
        "    return self.w, self.loss_list\n",
        "  def evaluate(self,X,y):\n",
        "    y_pred = self.predict(X)\n",
        "    y_pred = np.argmax(y_pred,axis=1)\n",
        "    # recall and precision\n",
        "    print('accuracy: ',accuracy_score(np.argmax(y_test_onehot, axis=1), y_pred))\n",
        "    print(\"recall:\",recall_score(np.argmax(y_test_onehot, axis=1), y_pred, average='macro'))\n",
        "    print(\"precision:\",precision_score(np.argmax(y_test_onehot, axis=1), y_pred, average='macro'))\n",
        "    return y_pred"
      ],
      "metadata": {
        "id": "8Ky9ZE1Q0GIA"
      },
      "execution_count": null,
      "outputs": []
    },
    {
      "cell_type": "code",
      "source": [
        "model = LogisticRegression(lr= 0.1, epoch=2000)\n",
        "w, loss_list = model.train(X_train_scaled, y_train_onehot)\n",
        "y_pred = model.evaluate(X_test_scaled, y_test_onehot)\n",
        "plt.title('loss')\n",
        "plt.xlabel('epoch')\n",
        "plt.ylabel('loss')\n",
        "plt.plot(loss_list)"
      ],
      "metadata": {
        "colab": {
          "base_uri": "https://localhost:8080/",
          "height": 715
        },
        "id": "ZP-zJXTU0PqB",
        "outputId": "65d9221d-6982-44c3-c565-e81a3caea90b"
      },
      "execution_count": null,
      "outputs": [
        {
          "output_type": "stream",
          "name": "stdout",
          "text": [
            "cost after 0 iter is 2.196978972468437\n",
            "cost after 200 iter is 0.4911963557971076\n",
            "cost after 400 iter is 0.41519372450516007\n",
            "cost after 600 iter is 0.3831187533765099\n",
            "cost after 800 iter is 0.3643212588428755\n",
            "cost after 1000 iter is 0.35157919282666866\n",
            "cost after 1200 iter is 0.3421959727051371\n",
            "cost after 1400 iter is 0.33490586421929935\n",
            "cost after 1600 iter is 0.329025159164242\n",
            "cost after 1800 iter is 0.3241474205907823\n",
            "accuracy:  0.9147\n",
            "recall: 0.9135049071479951\n",
            "precision: 0.9137274182552038\n"
          ]
        },
        {
          "output_type": "execute_result",
          "data": {
            "text/plain": [
              "[<matplotlib.lines.Line2D at 0x7c49029d3850>]"
            ]
          },
          "metadata": {},
          "execution_count": 20
        },
        {
          "output_type": "display_data",
          "data": {
            "text/plain": [
              "<Figure size 640x480 with 1 Axes>"
            ],
            "image/png": "[encoded data removed]"
          },
          "metadata": {}
        }
      ]
    },
    {
      "cell_type": "code",
      "source": [
        "# calculate the accuracy\n",
        "from sklearn.metrics import precision_score, recall_score, accuracy_score\n",
        "y_pred = model.predict(X_test_scaled)\n",
        "y_pred = np.argmax(y_pred,axis=1)\n",
        "print(y_pred)\n",
        "print('accuracy: ',accuracy_score(np.argmax(y_test_onehot, axis=1), y_pred))\n",
        "print(\"recall:\",recall_score(np.argmax(y_test_onehot, axis=1), y_pred, average='macro'))\n",
        "print(\"precision:\",precision_score(np.argmax(y_test_onehot, axis=1), y_pred, average='macro'))"
      ],
      "metadata": {
        "id": "B8wlFWBK0ZVp",
        "colab": {
          "base_uri": "https://localhost:8080/"
        },
        "outputId": "eaee0034-09ba-4e42-b130-41d6fc5ef8eb"
      },
      "execution_count": null,
      "outputs": [
        {
          "output_type": "stream",
          "name": "stdout",
          "text": [
            "[7 2 1 ... 4 5 6]\n",
            "accuracy:  0.9147\n",
            "recall: 0.9135049071479951\n",
            "precision: 0.9137274182552038\n"
          ]
        }
      ]
    },
    {
      "cell_type": "code",
      "source": [
        "np.save('mnist_softmax_model.npy', w)"
      ],
      "metadata": {
        "id": "vQVR8IuZW3DD"
      },
      "execution_count": null,
      "outputs": []
    }
  ]
}